{
 "cells": [
  {
   "cell_type": "markdown",
   "metadata": {},
   "source": [
    "# Symbolic Construction"
   ]
  },
  {
   "cell_type": "code",
   "execution_count": 1,
   "metadata": {},
   "outputs": [],
   "source": [
    "import symengine\n",
    "import cppmpc"
   ]
  },
  {
   "cell_type": "code",
   "execution_count": 2,
   "metadata": {},
   "outputs": [],
   "source": [
    "x = symengine.Symbol(\"$v_x\")\n",
    "y = symengine.Symbol(\"$v_y\")\n",
    "z = symengine.Symbol(\"$v_z\")\n",
    "\n",
    "a = symengine.Symbol(\"$p_a\")\n",
    "\n",
    "ordering = cppmpc.OrderedSet()\n",
    "ordering.append(z)\n",
    "ordering.append(y)\n",
    "ordering.append(x)"
   ]
  },
  {
   "cell_type": "code",
   "execution_count": 3,
   "metadata": {},
   "outputs": [],
   "source": [
    "constraints = cppmpc.SymbolicEqualityConstraints()\n",
    "constraints.appendConstraint(symengine.Eq(x, 3*y + 4))\n",
    "constraints.appendConstraint(symengine.Eq((z+a)/2, 7))"
   ]
  },
  {
   "cell_type": "code",
   "execution_count": 4,
   "metadata": {},
   "outputs": [],
   "source": [
    "system = constraints.convertToLinearSystem(ordering)"
   ]
  },
  {
   "cell_type": "code",
   "execution_count": 5,
   "metadata": {},
   "outputs": [
    {
     "data": {
      "text/plain": [
       "symengine.lib.symengine_wrapper.MutableDenseMatrix"
      ]
     },
     "execution_count": 5,
     "metadata": {},
     "output_type": "execute_result"
    }
   ],
   "source": [
    "symengine.DenseMatrix"
   ]
  },
  {
   "cell_type": "code",
   "execution_count": null,
   "metadata": {},
   "outputs": [],
   "source": []
  }
 ],
 "metadata": {
  "kernelspec": {
   "display_name": "cppmpc",
   "language": "python",
   "name": "cppmpc"
  },
  "language_info": {
   "codemirror_mode": {
    "name": "ipython",
    "version": 3
   },
   "file_extension": ".py",
   "mimetype": "text/x-python",
   "name": "python",
   "nbconvert_exporter": "python",
   "pygments_lexer": "ipython3",
   "version": "3.8.10"
  }
 },
 "nbformat": 4,
 "nbformat_minor": 4
}
