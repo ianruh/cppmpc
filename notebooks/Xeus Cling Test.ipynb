{
 "cells": [
  {
   "cell_type": "markdown",
   "metadata": {},
   "source": [
    "# Xeus Cling Test"
   ]
  },
  {
   "cell_type": "code",
   "execution_count": 1,
   "metadata": {
    "tags": []
   },
   "outputs": [],
   "source": [
    "#pragma cling add_include_path(\"../include/\")\n",
    "#pragma cling add_library_path(\"../build/\")\n",
    "#pragma cling load(\"libcppmpc\")"
   ]
  },
  {
   "cell_type": "code",
   "execution_count": 2,
   "metadata": {},
   "outputs": [],
   "source": [
    "#include <iostream>\n",
    "\n",
    "#include \"SymEngineUtilities.h\"\n",
    "#include \"OrderedSet.h\"\n",
    "#include \"SymbolicEquality.h\"\n",
    "\n",
    "#include \"symengine/basic.h\"\n",
    "#include \"symengine/symbol.h\"\n",
    "#include \"symengine/add.h\"\n",
    "#include \"symengine/mul.h\"\n",
    "#include \"symengine/printers.h\"\n",
    "#include \"symengine/expression.h\""
   ]
  },
  {
   "cell_type": "code",
   "execution_count": 3,
   "metadata": {},
   "outputs": [
    {
     "name": "stdout",
     "output_type": "stream",
     "text": [
      "[0, -3, 1]\n",
      "[1/2, 0, 0]\n",
      "\n"
     ]
    }
   ],
   "source": [
    "using namespace SymEngine;\n",
    "using namespace cppmpc;\n",
    "\n",
    "Expression x = Expression(variable(\"x\"));\n",
    "Expression y = Expression(variable(\"y\"));\n",
    "Expression z = Expression(variable(\"z\"));\n",
    "\n",
    "Expression a = Expression(parameter(\"a\"));\n",
    "\n",
    "OrderedSet ordering = OrderedSet();\n",
    "ordering.append(z);\n",
    "ordering.append(y);\n",
    "ordering.append(x);\n",
    "\n",
    "SymbolicEqualityConstraints constraints = SymbolicEqualityConstraints();\n",
    "constraints.appendConstraint(x, 3*y + 4);\n",
    "constraints.appendConstraint((z+a)/2, 7);\n",
    "DenseMatrix mat;\n",
    "DenseMatrix vector;\n",
    "std::tie(mat, vector) = constraints.convertToLinearSystem(ordering);\n",
    "std::cout << mat.__str__() << std::endl;"
   ]
  },
  {
   "cell_type": "code",
   "execution_count": 4,
   "metadata": {},
   "outputs": [
    {
     "name": "stderr",
     "output_type": "stream",
     "text": [
      "\u001b[1minput_line_10:5:27: \u001b[0m\u001b[0;1;31merror: \u001b[0m\u001b[1mno matching constructor for initialization of 'SymEngine::DenseMatrix'\u001b[0m\n",
      "DenseMatrix expectedMat = DenseMatrix(2, 3, els);\n",
      "\u001b[0;1;32m                          ^           ~~~~~~~~~\n",
      "\u001b[0m\u001b[1m/home/ianruh/miniconda3/envs/cppmpc/include/symengine/matrix.h:109:5: \u001b[0m\u001b[0;1;30mnote: \u001b[0mcandidate constructor not viable: no known conversion from 'vector<\u001b[0;1;36mSymEngine::Expression\u001b[0m>' to '\u001b[0;1;36mconst \u001b[0mvector<\u001b[0;1;36mRCP<const SymEngine::Basic>\u001b[0m>' for 3rd argument\u001b[0m\n",
      "    DenseMatrix(unsigned row, unsigned col, const vec_basic &l);\n",
      "\u001b[0;1;32m    ^\n",
      "\u001b[0m\u001b[1m/home/ianruh/miniconda3/envs/cppmpc/include/symengine/matrix.h:108:5: \u001b[0m\u001b[0;1;30mnote: \u001b[0mcandidate constructor not viable: requires 2 arguments, but 3 were provided\u001b[0m\n",
      "    DenseMatrix(unsigned row, unsigned col);\n",
      "\u001b[0;1;32m    ^\n",
      "\u001b[0m\u001b[1m/home/ianruh/miniconda3/envs/cppmpc/include/symengine/matrix.h:107:5: \u001b[0m\u001b[0;1;30mnote: \u001b[0mcandidate constructor not viable: requires 1 argument, but 3 were provided\u001b[0m\n",
      "    DenseMatrix(const DenseMatrix &) = default;\n",
      "\u001b[0;1;32m    ^\n",
      "\u001b[0m\u001b[1m/home/ianruh/miniconda3/envs/cppmpc/include/symengine/matrix.h:110:5: \u001b[0m\u001b[0;1;30mnote: \u001b[0mcandidate constructor not viable: requires single argument 'column_elements', but 3 arguments were provided\u001b[0m\n",
      "    DenseMatrix(const vec_basic &column_elements);\n",
      "\u001b[0;1;32m    ^\n",
      "\u001b[0m\u001b[1m/home/ianruh/miniconda3/envs/cppmpc/include/symengine/matrix.h:106:5: \u001b[0m\u001b[0;1;30mnote: \u001b[0mcandidate constructor not viable: requires 0 arguments, but 3 were provided\u001b[0m\n",
      "    DenseMatrix();\n",
      "\u001b[0;1;32m    ^\n",
      "\u001b[0m"
     ]
    },
    {
     "ename": "Interpreter Error",
     "evalue": "",
     "output_type": "error",
     "traceback": [
      "Interpreter Error: "
     ]
    }
   ],
   "source": [
    "std::vector<Expression> els{\n",
    "    0, -3, 1, 1/2, 0, 0\n",
    "};\n",
    "DenseMatrix expectedMat = DenseMatrix(2, 3, els);\n",
    "std::cout << expectedMat.__str__() << std::endl;"
   ]
  },
  {
   "cell_type": "code",
   "execution_count": null,
   "metadata": {},
   "outputs": [],
   "source": []
  }
 ],
 "metadata": {
  "kernelspec": {
   "display_name": "C++17",
   "language": "C++17",
   "name": "cppmpc-cpp17"
  },
  "language_info": {
   "codemirror_mode": "text/x-c++src",
   "file_extension": ".cpp",
   "mimetype": "text/x-c++src",
   "name": "c++",
   "version": "17"
  }
 },
 "nbformat": 4,
 "nbformat_minor": 4
}
