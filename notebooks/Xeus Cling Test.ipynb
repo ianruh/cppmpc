{
 "cells": [
  {
   "cell_type": "markdown",
   "metadata": {},
   "source": [
    "# Xeus Cling Test"
   ]
  },
  {
   "cell_type": "code",
   "execution_count": 1,
   "metadata": {},
   "outputs": [],
   "source": [
    "#pragma cling add_include_path(\"../include/\")\n",
    "#pragma cling add_include_path(\"../third_party/install/include/\")"
   ]
  },
  {
   "cell_type": "code",
   "execution_count": 2,
   "metadata": {},
   "outputs": [
    {
     "name": "stderr",
     "output_type": "stream",
     "text": [
      "\u001b[1minput_line_11:1:10: \u001b[0m\u001b[0;1;31mfatal error: \u001b[0m\u001b[1m'libsymengine' file not found\u001b[0m\n",
      "#include \"libsymengine\"\n",
      "\u001b[0;1;32m         ^~~~~~~~~~~~~~\n",
      "\u001b[0mIn file included from input_line_10:1:\n",
      "In file included from ../third_party/install/include/symengine/basic.h:37:\n",
      "In file included from ../third_party/install/include/symengine/dict.h:9:\n",
      "In file included from ../third_party/install/include/symengine/mp_class.h:7:\n",
      "\u001b[1m../third_party/install/include/symengine/mp_wrapper.h:5:10: \u001b[0m\u001b[0;1;31mfatal error: \u001b[0m\u001b[1m'gmp.h' file not found\u001b[0m\n",
      "#include <gmp.h>\n",
      "\u001b[0;1;32m         ^~~~~~~\n",
      "\u001b[0m"
     ]
    },
    {
     "ename": "Interpreter Error",
     "evalue": "",
     "output_type": "error",
     "traceback": [
      "Interpreter Error: "
     ]
    }
   ],
   "source": [
    "#include <iostream>\n",
    "//#include \"SymEngineUtilities.h\"\n",
    "#include \"symengine/basic.h\""
   ]
  },
  {
   "cell_type": "code",
   "execution_count": null,
   "metadata": {},
   "outputs": [],
   "source": [
    "std::cout << \"Hello World!\" << std::endl;"
   ]
  },
  {
   "cell_type": "code",
   "execution_count": null,
   "metadata": {},
   "outputs": [],
   "source": []
  }
 ],
 "metadata": {
  "kernelspec": {
   "display_name": "C++17",
   "language": "C++17",
   "name": "xcpp17"
  },
  "language_info": {
   "codemirror_mode": "text/x-c++src",
   "file_extension": ".cpp",
   "mimetype": "text/x-c++src",
   "name": "c++",
   "version": "17"
  }
 },
 "nbformat": 4,
 "nbformat_minor": 4
}
