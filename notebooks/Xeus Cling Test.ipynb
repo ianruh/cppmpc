{
 "cells": [
  {
   "cell_type": "markdown",
   "metadata": {},
   "source": [
    "# Xeus Cling Test"
   ]
  },
  {
   "cell_type": "code",
   "execution_count": 1,
   "metadata": {},
   "outputs": [],
   "source": [
    "#pragma cling add_include_path(\"../include/\")\n",
    "#pragma cling add_library_path(\"../build/\")\n",
    "#pragma cling load(\"libcppmpc\")"
   ]
  },
  {
   "cell_type": "code",
   "execution_count": 2,
   "metadata": {},
   "outputs": [],
   "source": [
    "#include <iostream>\n",
    "\n",
    "#include \"SymEngineUtilities.h\"\n",
    "#include \"OrderedSet.h\"\n",
    "#include \"SymbolicEquality.h\"\n",
    "\n",
    "#include \"symengine/basic.h\"\n",
    "#include \"symengine/symbol.h\"\n",
    "#include \"symengine/add.h\"\n",
    "#include \"symengine/mul.h\"\n",
    "#include \"symengine/printers.h\"\n",
    "#include \"symengine/expression.h\""
   ]
  },
  {
   "cell_type": "code",
   "execution_count": 3,
   "metadata": {},
   "outputs": [],
   "source": [
    "using namespace SymEngine;\n",
    "using namespace cppmpc;\n",
    "\n",
    "Expression x = Expression(variable(\"x\"));\n",
    "Expression y = Expression(variable(\"y\"));\n",
    "Expression z = Expression(variable(\"z\"));\n",
    "\n",
    "Expression a = Expression(parameter(\"a\"));\n",
    "\n",
    "OrderedSet ordering = OrderedSet();\n",
    "ordering.append(z);\n",
    "ordering.append(y);\n",
    "ordering.append(z);\n",
    "\n",
    "SymbolicEqualityConstraints constraints = SymbolicEqualityConstraints();"
   ]
  },
  {
   "cell_type": "code",
   "execution_count": null,
   "metadata": {},
   "outputs": [],
   "source": []
  }
 ],
 "metadata": {
  "kernelspec": {
   "display_name": "C++17",
   "language": "C++17",
   "name": "xcpp17"
  },
  "language_info": {
   "codemirror_mode": "text/x-c++src",
   "file_extension": ".cpp",
   "mimetype": "text/x-c++src",
   "name": "c++",
   "version": "17"
  }
 },
 "nbformat": 4,
 "nbformat_minor": 4
}
