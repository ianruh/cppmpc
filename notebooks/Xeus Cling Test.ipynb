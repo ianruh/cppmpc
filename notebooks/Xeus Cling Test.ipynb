{
 "cells": [
  {
   "cell_type": "markdown",
   "metadata": {},
   "source": [
    "# Xeus Cling Test"
   ]
  },
  {
   "cell_type": "code",
   "execution_count": 3,
   "metadata": {
    "tags": []
   },
   "outputs": [],
   "source": [
    "#pragma cling add_include_path(\"../include/\")\n",
    "#pragma cling add_library_path(\"../build/\")\n",
    "#pragma cling add_include_path(\"/home/ianruh/miniconda3/envs/cppmpc/include/\") // WHY???\n",
    "#pragma cling add_library_path(\"/home/ianruh/miniconda3/envs/cppmpc/lib/\")\n",
    "#pragma cling load(\"libcppmpc\")"
   ]
  },
  {
   "cell_type": "code",
   "execution_count": 4,
   "metadata": {},
   "outputs": [],
   "source": [
    "#include <iostream>\n",
    "\n",
    "#include \"SymEngineUtilities.h\"\n",
    "#include \"OrderedSet.h\"\n",
    "#include \"SymbolicEquality.h\"\n",
    "\n",
    "#include \"symengine/basic.h\"\n",
    "#include \"symengine/symbol.h\"\n",
    "#include \"symengine/add.h\"\n",
    "#include \"symengine/mul.h\"\n",
    "#include \"symengine/printers.h\"\n",
    "#include \"symengine/expression.h\"\n",
    "#include \"symengine/integer.h\"\n",
    "#include \"symengine/rational.h\"\n",
    "#include \"symengine/simplify.h\""
   ]
  },
  {
   "cell_type": "code",
   "execution_count": 17,
   "metadata": {},
   "outputs": [
    {
     "name": "stdout",
     "output_type": "stream",
     "text": [
      "[0, -3, 1]\n",
      "[1/2, 0, 0]\n",
      "\n",
      "Vector: \n",
      "[4]\n",
      "[-(-7 + (1/2)*$p_a)]\n",
      "\n"
     ]
    }
   ],
   "source": [
    "using namespace SymEngine;\n",
    "using namespace cppmpc;\n",
    "\n",
    "Expression x = Expression(variable(\"x\"));\n",
    "Expression y = Expression(variable(\"y\"));\n",
    "Expression z = Expression(variable(\"z\"));\n",
    "\n",
    "Expression a = Expression(parameter(\"a\"));\n",
    "\n",
    "OrderedSet ordering = OrderedSet();\n",
    "ordering.append(z);\n",
    "ordering.append(y);\n",
    "ordering.append(x);\n",
    "\n",
    "SymbolicEqualityConstraints constraints = SymbolicEqualityConstraints();\n",
    "constraints.appendConstraint(x, 3*y + 4);\n",
    "constraints.appendConstraint((z+a)/2, 7);\n",
    "DenseMatrix mat;\n",
    "DenseMatrix vector;\n",
    "std::tie(mat, vector) = constraints.convertToLinearSystem(ordering);\n",
    "std::cout << mat.__str__() << std::endl;\n",
    "std::cout << \"Vector: \" << std::endl << vector.__str__() << std::endl;"
   ]
  },
  {
   "cell_type": "code",
   "execution_count": 6,
   "metadata": {},
   "outputs": [
    {
     "name": "stdout",
     "output_type": "stream",
     "text": [
      "[0, -3, 1]\n",
      "[1/2, 0, 0]\n",
      "\n"
     ]
    }
   ],
   "source": [
    "DenseMatrix expectedMat = DenseMatrix(2, 3, {integer(0), integer(-3), integer(1), rational(1,2), integer(0), integer(0)});\n",
    "std::cout << expectedMat.__str__() << std::endl;"
   ]
  },
  {
   "cell_type": "code",
   "execution_count": 7,
   "metadata": {},
   "outputs": [],
   "source": [
    "bool res = mat == expectedMat;"
   ]
  },
  {
   "cell_type": "code",
   "execution_count": 8,
   "metadata": {},
   "outputs": [
    {
     "name": "stdout",
     "output_type": "stream",
     "text": [
      "True\n"
     ]
    }
   ],
   "source": [
    "std::cout << (res ? \"True\": \"False\") << std::endl;"
   ]
  },
  {
   "cell_type": "code",
   "execution_count": 10,
   "metadata": {},
   "outputs": [
    {
     "name": "stdout",
     "output_type": "stream",
     "text": [
      "[4]\n",
      "[7 + (-1/2)*$p_a]\n",
      "\n"
     ]
    }
   ],
   "source": [
    "DenseMatrix expectedVector = DenseMatrix(2,1, {\n",
    "    integer(4),\n",
    "    (sub(integer(7), div(a.get_basic(),integer(2))))\n",
    "});\n",
    "std::cout << expectedVector.__str__() << std::endl;"
   ]
  },
  {
   "cell_type": "code",
   "execution_count": 21,
   "metadata": {},
   "outputs": [
    {
     "name": "stdout",
     "output_type": "stream",
     "text": [
      "[4]\n",
      "[7 + (-1/2)*$p_a]\n",
      "\n"
     ]
    }
   ],
   "source": [
    "vector.set(1,0,expand(vector.get(1,0)));\n",
    "std::cout << vector.__str__() << std::endl;"
   ]
  },
  {
   "cell_type": "code",
   "execution_count": null,
   "metadata": {},
   "outputs": [],
   "source": []
  }
 ],
 "metadata": {
  "kernelspec": {
   "display_name": "C++17",
   "language": "C++17",
   "name": "cppmpc-cpp17"
  },
  "language_info": {
   "codemirror_mode": "text/x-c++src",
   "file_extension": ".cpp",
   "mimetype": "text/x-c++src",
   "name": "c++",
   "version": "17"
  }
 },
 "nbformat": 4,
 "nbformat_minor": 4
}
